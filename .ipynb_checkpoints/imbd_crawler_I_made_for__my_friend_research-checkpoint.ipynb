{
 "cells": [
  {
   "cell_type": "markdown",
   "metadata": {},
   "source": [
    "# IMBD crawling project\n",
    "## Collecting action genre's \n",
    "### title | USgross box office revenue | statscore | critic metascores | critic review texts |  \n",
    "#### Dataset : [title, US box office revenue, starscore, [(metascores, metatext),(metascores, metatext),(metascores, metatext)...]]"
   ]
  },
  {
   "attachments": {
    "Screen%20Shot%202019-06-05%20at%2012.55.27%20PM.png": {
     "image/png": "[encoded data removed]"
    }
   },
   "cell_type": "markdown",
   "metadata": {},
   "source": [
    "# < 환경 세팅> 중요%%\n",
    "\n",
    "## !!!! 커스텀 설정 !!!! 부분을 따로 커멘트에 표시해둠 => 3개정도 됨.\n",
    "## 바로 밑의 모듈들을 현재 주피터 노트북 개발환경(중요)에 속하게 다운 !!주피터가 쓰는 환경으로 pip install\n",
    "\n",
    "```bs4, urllib3, chromewebdriver, time, lxml, urllib3, csv```\n",
    "\n",
    "![Screen%20Shot%202019-06-05%20at%2012.55.27%20PM.png](attachment:Screen%20Shot%202019-06-05%20at%2012.55.27%20PM.png)\n",
    "\n",
    "## 위에 모든 모듈을 => 주피터 놑북에서 쓰는 개발환경내에서 pip install\n"
   ]
  },
  {
   "cell_type": "code",
   "execution_count": 53,
   "metadata": {},
   "outputs": [],
   "source": [
    "# Import modules \n",
    "import bs4\n",
    "import urllib3\n",
    "import selenium.webdriver as webdriver\n",
    "# !!!! 커스텀 설정 !!!! 너의 크롬 드라이버 파일의 디렉토리\n",
    "from time import sleep\n",
    "from lxml import html\n",
    "import urllib3\n",
    "import csv\n",
    "import os\n",
    "# Get html text and let lxml parse it in its own way.\n",
    "http = urllib3.PoolManager()"
   ]
  },
  {
   "cell_type": "markdown",
   "metadata": {},
   "source": [
    "# 100page 씩 나누어서 => 5000개의 영화씩 => 한개의 csv파일로도 나누기.\n",
    "# 적당한 선에서 나누어서 보내주기."
   ]
  },
  {
   "cell_type": "markdown",
   "metadata": {},
   "source": [
    "# #1 Store all 'action genre' movie urls to one variable\n",
    "\n",
    "```whole_title_urls_storage```"
   ]
  },
  {
   "cell_type": "code",
   "execution_count": 54,
   "metadata": {},
   "outputs": [
    {
     "data": {
      "text/plain": [
       "0"
      ]
     },
     "execution_count": 54,
     "metadata": {},
     "output_type": "execute_result"
    }
   ],
   "source": [
    "# load action genre page\n",
    "driver = webdriver.Chrome('/Users/sucky/Desktop/chromedriver') \n",
    "action_genre_url = \"https://www.imdb.com/search/title?pf_rd_m=A2FGELUUNOQJNL&pf_rd_p=cd28805a-4e91-4f0f-b066-0db5ff4dd1a7&pf_rd_r=30AH67YYPH64GCS9CRA9&pf_rd_s=right-6&pf_rd_t=15506&pf_rd_i=boxoffice&ref_=chtbo_gnr_1&genres=action&explore=title_type,genres\"\n",
    "driver.get(action_genre_url)\n",
    "driver.implicitly_wait(2)\n",
    "\n",
    "#Save all the link at issue\n",
    "#1). save all the url links of 253,049 action movies.\n",
    "whole_title_urls_storage_1 = [] # 100 per 1 storage\n",
    " \n",
    "#2). iterate with selenium to collect all the links\n",
    "\n",
    "for i in range(100): # !!! 커스텀 설정 !!! : 현실적으로 데이터 갯수를 줄여야하는 경우 range() 안에 있는 게 <page수> 임\n",
    "                    # 한 페이지당 영화 50개 이므로 시간 없으면 줄이기, 나는 그냥 테스트용으로 영화 500개 (10페이지만) 해봄.\n",
    "                    # 액션 영화 전체 페이지는 약 5061페이지인듯함.\n",
    "    try :\n",
    "    #wait loading\n",
    "        driver.implicitly_wait(2)\n",
    "    \n",
    "    #get driver's url\n",
    "        now_url = driver.current_url\n",
    "        r = http.request('GET', now_url)\n",
    "        source = r.data\n",
    "        tree = html.document_fromstring(source)\n",
    "    \n",
    "    # get all the href links\n",
    "        one_page_url_list = ['https://www.imdb.com'+i.get('href') for i in tree.cssselect('div div div div div div div div div h3 a')]\n",
    "    \n",
    "    # extend this to whole title urls storage\n",
    "        whole_title_urls_storage_1.extend(one_page_url_list)\n",
    "    \n",
    "    # click move on to next page\n",
    "        if now_url == \"https://www.imdb.com/search/title?pf_rd_m=A2FGELUUNOQJNL&pf_rd_p=cd28805a-4e91-4f0f-b066-0db5ff4dd1a7&pf_rd_r=30AH67YYPH64GCS9CRA9&pf_rd_s=right-6&pf_rd_t=15506&pf_rd_i=boxoffice&ref_=chtbo_gnr_1&genres=action&explore=title_type,genres\":\n",
    "            driver.find_element_by_xpath('//*[@id=\"main\"]/div/div[4]/a').click()\n",
    "        else:\n",
    "            driver.find_element_by_xpath('//*[@id=\"main\"]/div/div[4]/a[2]').click()\n",
    "    \n",
    "    except:\n",
    "        print('error occured at {}th set'.format(i))\n",
    "\n",
    "os.system('say \"your program has been completed.\"')"
   ]
  },
  {
   "cell_type": "markdown",
   "metadata": {},
   "source": [
    "# check data size : fix if there are overlaps. (같은 정보만 모이는 버그 방지)"
   ]
  },
  {
   "cell_type": "code",
   "execution_count": 56,
   "metadata": {},
   "outputs": [
    {
     "data": {
      "text/plain": [
       "5000"
      ]
     },
     "execution_count": 56,
     "metadata": {},
     "output_type": "execute_result"
    }
   ],
   "source": [
    "len(set(whole_title_urls_storage_1)) #내가 모은 url이 중복없이 원하는 개수대로 모였는지 확인"
   ]
  },
  {
   "cell_type": "markdown",
   "metadata": {},
   "source": [
    "## 2. Plan Crawling"
   ]
  },
  {
   "cell_type": "markdown",
   "metadata": {},
   "source": [
    "### 대체적인 코드 진행\n",
    "### Open CSV, CSV WRITER\n",
    "### import csv\n",
    "### f = open('/Users/sucky/Desktop/outputs/test_output_#{}.csv'.format('final_7'), 'w', encoding='utf-8', newline='')\n",
    "### wr = csv.writer(f)\n",
    "\n",
    "## whole intended data = []\n",
    "# Repeat the following link by link\n",
    "## a_movie_data = []\n",
    "## Try:\n",
    "### <1>. there should be!! 'box office us-gross info including element' \n",
    "###         => if year is 2019 \n",
    "###                      continue (screen recent)\n",
    "###         find name and make it 'a'\n",
    "###         find star score and make it 'b'\n",
    "###         find box office us gross make it 'c'\n",
    "### <2>.  get Download metascore link => download html => find /<~~>? part to get the clue of into review url of the allpopen review and score page. \n",
    "###       Try:\n",
    "### <3>.  go into the made link get meta score & review each\n",
    "###          list_of_metascores = []\n",
    "###          corresponding_reviews = [] \n",
    "###          해당 사이트 점수와 리뷰 모두 위의 리스트에 수집\n",
    "###          for k in range(len(list_of_metascores)):\n",
    "###          wr.writerow([a, b, c, list_of_metascores[k], corresponding_reviews[k]])\n",
    "###       except:\n",
    "###\n",
    "###          링크가 존재하지 않거나, 리뷰데이터가 없는 경우 바로 다음 루프로 continue\n",
    "## except:\n",
    "##       continue\n",
    "## f.close()\n",
    "\n"
   ]
  },
  {
   "cell_type": "markdown",
   "metadata": {},
   "source": [
    "# 3. Crawl !! "
   ]
  },
  {
   "cell_type": "markdown",
   "metadata": {},
   "source": [
    "# 아웃풋 창에 => 몇번째 영화까지 진행되는 지 나오니 보면서 .csv파일 잘 써지고 있는지 확인 !\n",
    "# 에러가 중간 중간 있지만, 데이터량이 충분히 많아서 무시해도 될듯함"
   ]
  },
  {
   "cell_type": "code",
   "execution_count": null,
   "metadata": {},
   "outputs": [
    {
     "name": "stdout",
     "output_type": "stream",
     "text": [
      "0\n",
      "1\n",
      "2\n",
      "3\n",
      "4\n",
      "5\n",
      "6\n",
      "7\n",
      "8\n",
      "9\n",
      "10\n",
      "11\n",
      "12\n",
      "13\n"
     ]
    }
   ],
   "source": [
    "# Open .csv file\n",
    "f = open('imbd_test_1.csv', 'w') # !!!! 커스텀 설정 !!!! : 원하는 '디렉터리/파일명.csv'을 첫번째 인풋에.\n",
    "wr = csv.writer(f)\n",
    "\n",
    "# count(url's index)\n",
    "iter = -1\n",
    "\n",
    "# Iterate over collected links\n",
    "for l in whole_title_urls_storage_1:\n",
    "    \n",
    "    # counter\n",
    "    iter += 1\n",
    "    print(iter)\n",
    "    \n",
    "    # repeat this\n",
    "    try:\n",
    "       \n",
    "        # <Get html and parsed tree>\n",
    "            # get html of the link\n",
    "        r = http.request('GET', l) # l is one link from loop\n",
    "        source = r.data\n",
    "        \n",
    "            # parse them into lxml tree\n",
    "        tree = html.document_fromstring(source) \n",
    "        \n",
    "        # <Filtering out, non-existent url, years > 2018, non-movie)  \n",
    "        \n",
    "            # 1). non-movie filter!\n",
    "        if 'Gross USA:' not in source:\n",
    "            continue\n",
    "            \n",
    "            # 2). No year element, year bigger than 2018 filter!\n",
    "        year_elem = tree.cssselect('div div div div div h1 span#titleYear')\n",
    "        \n",
    "        if len(year_elem) == 0 :\n",
    "            continue\n",
    "        \n",
    "        if int([k for k in [i.text_content() for i in year_elem]][0].strip('()')) > 2018:\n",
    "            continue\n",
    "            \n",
    "        # <Get infoS>\n",
    "            # find a movie name => 'title'\n",
    "        title_str = [i.text_content().encode('utf-8') for i in tree.cssselect('div div div div div h1')][0]\n",
    "        title = title_str.split('\\xc2')[0]\n",
    "            # find a movie star score => 'score'\n",
    "        score = float([i.text_content() for i in tree.cssselect('div div div div div div strong span')][0])\n",
    "            # find a us_gross_box_office_revenue => 'us_gross'\n",
    "        gross_str = [i.text_content() for i in tree.cssselect('#main_bottom div#titleDetails.article')][0].encode('utf-8')\n",
    "        us_gross = int([i for i in gross_str.split('\\n') if i.startswith('Gross USA:')][0].split('$')[-1].replace(',',''))\n",
    "        \n",
    "        # Get metalink\n",
    "        # Get html of the metalink\n",
    "        # find /~~? part to to use as a key into review page.\n",
    "        # integrate the found ~~ part with \n",
    "        # f'https://www.metacritic.com/movie/{john-wick}/critic-reviews' and get that url html\n",
    "        # case : 1. data exist : crawl\n",
    "        \n",
    "        # find the piece\n",
    "        first_piece = [link[2] for link in tree.cssselect('div div div div.titleReviewBarSubItem div a')[0].iterlinks()][0]\n",
    "        \n",
    "        # make 2nd url of l (now link)\n",
    "        new_list = l.split('/')[:-1]\n",
    "        new_list.append(first_piece)\n",
    "        second_url = '/'.join(new_list)\n",
    "        \n",
    "        # get html of 2nd url\n",
    "        r = http.request('GET', second_url)\n",
    "        source = r.data\n",
    "        # and parse it\n",
    "        tree = html.document_fromstring(source)\n",
    "        # get /~? => matacritic's title from it.\n",
    "        clue_string = [i for i in tree.cssselect('div div.see-more')[0].iterlinks()][0][2].split('?')[0].split('/')[-1]\n",
    "        # get 3rd url out of clue string\n",
    "        all_review_url = 'https://www.metacritic.com/movie/{}/critic-reviews'.format(clue_string)\n",
    "        \n",
    "        #<in the all_review_url> - make a list of scores and a list of texts.\n",
    "        #    get html of all_review_url\n",
    "        r = http.request('GET', all_review_url)\n",
    "        source = r.data\n",
    "        tree = html.document_fromstring(source)\n",
    "        \n",
    "        #     get a list of critic scores\n",
    "        lists_of_each_text_list = []\n",
    "        list_of_critic_scores = []\n",
    "\n",
    "        for i in tree.cssselect('div.left.fl'):\n",
    "            lists_of_each_text_list.append(i.text_content())\n",
    "\n",
    "        for k in range(len(lists_of_each_text_list)):\n",
    "            list_of_critic_scores.append(int(lists_of_each_text_list[k].split('\\n')[4]))\n",
    "        #<list_of_critic_scores> completed!!\n",
    "        \n",
    "        #     get a list of critic texts\n",
    "        a_movie_critic_texts_list = []\n",
    "        for j in tree.cssselect('div div div div div div div div a.no_hover'):\n",
    "            a_critic_text = j.text_content().strip().encode('utf-8')\n",
    "            a_movie_critic_texts_list.append(a_critic_text)\n",
    "    \n",
    "        #<a_movie_critic_texts_list> completed\n",
    "        \n",
    "        #write line by line into csv file\n",
    "        \n",
    "        for c in range(len(list_of_critic_scores)):\n",
    "            wr.writerow([title, score, us_gross,list_of_critic_scores[c],a_movie_critic_texts_list[c]])\n",
    "            \n",
    "            \n",
    "    except Exception as e:\n",
    "        print(\"error occurted at {}\".format(iter)) # ignore if there are already so many data.\n",
    "        continue\n",
    "        \n",
    "# Close csv.file\n",
    "f.close()"
   ]
  },
  {
   "cell_type": "markdown",
   "metadata": {},
   "source": [
    "# 연습장"
   ]
  },
  {
   "cell_type": "code",
   "execution_count": 51,
   "metadata": {},
   "outputs": [
    {
     "name": "stdout",
     "output_type": "stream",
     "text": [
      "48\n",
      "48\n"
     ]
    }
   ],
   "source": [
    "r = http.request('GET', 'https://www.imdb.com/title/tt3385516/?ref_=adv_li_tt')\n",
    "source = r.data\n",
    "tree = html.document_fromstring(source)\n",
    "#year_elem = tree.cssselect('div div div div div h1 span#titleYear')\n",
    "#[k for k in [i.text_content() for i in year_elem]][0].strip('()')\n",
    "#title_str = [i.text_content().encode('utf-8') for i in tree.cssselect('div div div div div h1')][0]\n",
    "#title_str.split('\\xc2')[0]\n",
    "#float([i.text_content() for i in tree.cssselect('div div div div div div strong span')][0])\n",
    "#gross_str = [i.text_content() for i in tree.cssselect('#main_bottom div#titleDetails.article')][0].encode('utf-8')\n",
    "#int([i for i in gross_str.split('\\n') if i.startswith('Gross USA:')][0].split('$')[-1].replace(',',''))\n",
    "first_piece = [link[2] for link in tree.cssselect('div div div div.titleReviewBarSubItem div a')[0].iterlinks()][0]\n",
    "new_list = 'https://www.imdb.com/title/tt3385516/?ref_=adv_li_tt'.split('/')[:-1]\n",
    "new_list.append(first_piece)\n",
    "second_link = '/'.join(new_list)\n",
    "\n",
    "r = http.request('GET', second_link)\n",
    "source = r.data\n",
    "tree = html.document_fromstring(source)\n",
    "# find clue there\n",
    "clue_string = [i for i in tree.cssselect('div div.see-more')[0].iterlinks()][0][2].split('?')[0].split('/')[-1]\n",
    "all_review_url = \"https://www.metacritic.com/movie/{}/critic-reviews\".format(clue_string)\n",
    "\n",
    "# get html of all_review_url\n",
    "r = http.request('GET', all_review_url)\n",
    "source = r.data\n",
    "tree = html.document_fromstring(source)\n",
    "\n",
    "# get a list of critic scores and texts\n",
    "lists_of_each_text_list = []\n",
    "list_of_critic_scores = []\n",
    "\n",
    "for i in tree.cssselect('div.left.fl'):\n",
    "    lists_of_each_text_list.append(i.text_content())\n",
    "\n",
    "for k in range(len(lists_of_each_text_list)):\n",
    "    list_of_critic_scores.append(int(lists_of_each_text_list[k].split('\\n')[4]))\n",
    "\n",
    "print(len(list_of_critic_scores))\n",
    "\n",
    "# get a list of critic texts\n",
    "a_movie_critic_texts_list = []\n",
    "for j in tree.cssselect('div div div div div div div div a.no_hover'):\n",
    "    a_critic_text = j.text_content().strip().encode('utf-8')\n",
    "    a_movie_critic_texts_list.append(a_critic_text)\n",
    "    \n",
    "print(len(a_movie_critic_texts_list))\n",
    "    \n"
   ]
  },
  {
   "cell_type": "code",
   "execution_count": 154,
   "metadata": {},
   "outputs": [],
   "source": [
    "f = open('/Users/sucky/Desktop/test.csv', 'w')\n",
    "wr = csv.writer(f)\n",
    "\n",
    "string = tree.cssselect('div div div div div div div div a.no_hover')[0].text_content().strip()\n",
    "\n",
    "wr.writerow([1,string.encode('utf-8')])\n",
    "wr.writerow([2,string.encode('utf-8')])\n",
    "\n",
    "# Close CSV file.\n",
    "f.close()"
   ]
  }
 ],
 "metadata": {
  "kernelspec": {
   "display_name": "Python [conda env:python_2]",
   "language": "python",
   "name": "conda-env-python_2-py"
  },
  "language_info": {
   "codemirror_mode": {
    "name": "ipython",
    "version": 2
   },
   "file_extension": ".py",
   "mimetype": "text/x-python",
   "name": "python",
   "nbconvert_exporter": "python",
   "pygments_lexer": "ipython2",
   "version": "2.7.16"
  }
 },
 "nbformat": 4,
 "nbformat_minor": 2
}
